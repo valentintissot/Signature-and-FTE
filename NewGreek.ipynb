{
 "cells": [
  {
   "cell_type": "markdown",
   "id": "51392870-bafe-4989-960b-9ad934cbc1ea",
   "metadata": {},
   "source": [
    "## Signature Methods in Finance\n",
    "### Part III: Signature and Functional Expansions\n",
    "#### 6.2 Risk Analysis: A new Greek\n"
   ]
  },
  {
   "cell_type": "code",
   "execution_count": 1,
   "id": "ae973417-bc15-4065-a2ef-8e6b1f0a4bc9",
   "metadata": {},
   "outputs": [],
   "source": [
    "from quantLib import *\n",
    "from math import factorial as fact\n",
    "import matplotlib.pyplot as plt\n",
    "from cycler import cycler as cyc\n",
    "cols = [\"midnightblue\",\"darkred\",'purple','indianred',\"plum\"] \n",
    "colCyc = cyc('color', cols) \n",
    "plt.rcParams.update({\n",
    "    \"text.usetex\": True,\n",
    "    \"font.family\": \"serif\",\n",
    "    \"font.serif\": \"palatino\"\n",
    "})\n",
    "import bqplot.pyplot as bqplt\n",
    "import ipywidgets as wi\n",
    "from scipy.stats import norm, lognorm\n",
    "from bqplot import Axis, LinearScale\n",
    "import matplotlib.pyplot as plt\n",
    "from cycler import cycler as cyc\n",
    "from ttictoc import tic,toc\n",
    "import pandas as pd\n",
    "\n",
    "__ = np.newaxis"
   ]
  },
  {
   "cell_type": "markdown",
   "id": "b18cc23c-8736-4feb-a6d2-be0bc0c79fec",
   "metadata": {
    "tags": []
   },
   "source": [
    "### 6.1.1 Asian call option\n",
    "\n",
    "$$    g(X) = \\left(A(X) - K \\right)^+, \\quad  A(X) = \\frac{1}{T}\\int_0^t X_udu,  \\quad X \\in \\Lambda_u. $$"
   ]
  },
  {
   "cell_type": "code",
   "execution_count": 2,
   "id": "766e97e7-90dd-43ae-af67-199df214856d",
   "metadata": {},
   "outputs": [],
   "source": [
    "x0      = 100     # Initial value\n",
    "K,T     = x0,1/2  # Option parameters \n",
    "t       = T/3     # Today's date\n",
    "r,sig   = 0.0,0.2 # Black-Scholes Parameters (no dividends)\n",
    "\n",
    "# 1-day time increment (assuming 252 business days/year and 24 hour trading sessions)\n",
    "dt  = 1/252          \n",
    "ts  = np.arange(0,T+dt,dt)  # Time grid (flat)\n",
    "Ts  = ts[:,__]              # Time grid (column vector)\n",
    "N,n = int(T/dt), int(t/dt)\n",
    "\n",
    "# Itô map linking Brownian motion to the coordinate process Y \n",
    "# under Q (here Black-Scholes)\n",
    "w2Y = lambda x,Ts,W: x * np.exp(sig * W + (r - sig**2/2) * Ts)\n",
    "\n",
    "# Asian call option payoff\n",
    "g = lambda X: np.maximum(np.mean(X,axis = 0) - K,0.)"
   ]
  },
  {
   "cell_type": "code",
   "execution_count": 3,
   "id": "c546b6c5-7904-453e-a8f1-7b90708dbf98",
   "metadata": {},
   "outputs": [],
   "source": [
    "# Presimulated Brownian paths for the price functional\n",
    "W = BM(Ts[n:] - t,int(2**16))\n",
    "\n",
    "def f(t,X):\n",
    "    \"\"\"Price functional f(X) = E[g(Z)|X]. \n",
    "       J = # Monte Carlo simulations\"\"\"\n",
    "    n_  = int(t/dt)\n",
    "    Ts_ = Ts[n_:]-t # time grid\n",
    "    # Shocks\n",
    "    Y   = w2Y(X[-1],Ts_,W[:N-n_+1])  \n",
    "    # Concatenated paths\n",
    "    Z   = np.vstack([np.tile(X,(1,np.shape(Y)[1])),Y])\n",
    "    # Monte Carlo price\n",
    "    return MC(g(Z),T)"
   ]
  },
  {
   "cell_type": "markdown",
   "id": "b700ca63-07ab-453e-abc3-abb965864bc7",
   "metadata": {},
   "source": [
    "### Greeks Calculation"
   ]
  },
  {
   "cell_type": "code",
   "execution_count": 9,
   "id": "848af168-5eb0-47e5-99e2-a654cd7e6e24",
   "metadata": {},
   "outputs": [
    {
     "name": "stdout",
     "output_type": "stream",
     "text": [
      "Greeks calculation - Run time: 0.41 sec.\n",
      "\n",
      "Portfolio value: 0.273\n",
      "\n"
     ]
    },
    {
     "data": {
      "text/html": [
       "<div>\n",
       "<style scoped>\n",
       "    .dataframe tbody tr th:only-of-type {\n",
       "        vertical-align: middle;\n",
       "    }\n",
       "\n",
       "    .dataframe tbody tr th {\n",
       "        vertical-align: top;\n",
       "    }\n",
       "\n",
       "    .dataframe thead th {\n",
       "        text-align: right;\n",
       "    }\n",
       "</style>\n",
       "<table border=\"1\" class=\"dataframe\">\n",
       "  <thead>\n",
       "    <tr style=\"text-align: right;\">\n",
       "      <th></th>\n",
       "      <th>Greeks</th>\n",
       "    </tr>\n",
       "  </thead>\n",
       "  <tbody>\n",
       "    <tr>\n",
       "      <th>t</th>\n",
       "      <td>-3.864</td>\n",
       "    </tr>\n",
       "    <tr>\n",
       "      <th>x</th>\n",
       "      <td>0.089</td>\n",
       "    </tr>\n",
       "    <tr>\n",
       "      <th>xx</th>\n",
       "      <td>0.023</td>\n",
       "    </tr>\n",
       "    <tr>\n",
       "      <th>[t,x]</th>\n",
       "      <td>0.229</td>\n",
       "    </tr>\n",
       "  </tbody>\n",
       "</table>\n",
       "</div>"
      ],
      "text/plain": [
       "       Greeks\n",
       "t      -3.864\n",
       "x       0.089\n",
       "xx      0.023\n",
       "[t,x]   0.229"
      ]
     },
     "metadata": {},
     "output_type": "display_data"
    }
   ],
   "source": [
    "# Observed path \n",
    "rdm.seed(1)\n",
    "X = w2Y(x0,Ts[:n+1],BM(Ts[:n+1],1)) \n",
    "# Today's option price\n",
    "f_ = f(t,X)\n",
    "\n",
    "tic()\n",
    "# Functional derivatives (Greeks). Use finite difference\n",
    "dx        = x0 * np.sqrt(dt)*1e-1\n",
    "dx_       = dx * (Ts[:n+1] == t) # bump (column vector)\n",
    "fUp,fDown = f(t,X + dx_),f(t,X - dx_) # bumped path at final time (up an down)\n",
    "# Distorted paths for the Lie derivative\n",
    "X_xtUp    = np.vstack([X + dx_,X[-1,:] + dx]) \n",
    "X_txUp    = np.vstack([X,X[-1,:]]) + dx * (Ts[:n+2] == (t+dt))\n",
    "X_xtDown  = np.vstack([X - dx_,X[-1,:] - dx]) \n",
    "X_txDown  = np.vstack([X,X[-1,:]]) - dx * (Ts[:n+2] == (t+dt))\n",
    "\n",
    "lbda = {\"t\"    : (f(t+dt,np.vstack([X,X[-1]])) - f_)/dt,\n",
    "        \"x\"    : (fUp - fDown)/(2*dx),                   # centered difference \n",
    "        \"xx\"   : (fUp - 2*f_ + fDown)/dx**2,             # butterfly approximation\n",
    "        \"[t,x]\": (f(t+dt,X_xtUp) - f(t+dt,X_xtDown) \\\n",
    "               -  f(t+dt,X_txUp) + f(t+dt,X_txDown) )/(2*dt*dx) } # Lie derivative\n",
    "\n",
    "print(\"Greeks calculation - Run time: %2.2f sec.\\n\"%toc())\n",
    "\n",
    "print(\"Portfolio value: %2.3f\\n\"%f_)\n",
    "display(pd.DataFrame.from_dict(lbda,orient='index',columns = [\"Greeks\"]).round(3))"
   ]
  },
  {
   "cell_type": "markdown",
   "id": "c258f4f8-fd37-464f-bc0a-de0ca208c250",
   "metadata": {},
   "source": [
    "### Fast computation of P&L\n",
    "$$(f,X) \\; \\overset{\\text{offline}}{\\longrightarrow} \\;\n",
    "  (\\Theta,\\Delta,\\Gamma,\\mathcal{L}) \\; \\overset{\\text{online}}{\\longrightarrow} \\; \n",
    "       \\text{P&L}(Y) =   \\Theta \\delta t + \\Delta \\delta y + \\Gamma\\frac{\\delta y ^2}{2} + \\mathcal{L} \\mathcal{A}(Y).$$\n"
   ]
  },
  {
   "cell_type": "code",
   "execution_count": 7,
   "id": "b56a2375-5e68-41c7-935e-d07701874702",
   "metadata": {},
   "outputs": [
    {
     "name": "stdout",
     "output_type": "stream",
     "text": [
      "Exact PnL - Run time: 0.54 sec.\n",
      "Approximated PnL - Run time (online): 0.00 sec.\n"
     ]
    }
   ],
   "source": [
    "def PnL(deltaT,deltaY,A,lbda):\n",
    "    \"\"\"Taylor approximation of the P&L f(X*Y) - f(X) using the Greeks\n",
    "       (Theta,Delta,Gamma,L).\"\"\"\n",
    "    PnL = lbda[\"t\"] * deltaT + lbda[\"x\"] * deltaY + lbda[\"xx\"] * deltaY**2/2 \\\n",
    "         + lbda[\"[t,x]\"] * A\n",
    "    return np.array(PnL)\n",
    "\n",
    "# One-week shock paths\n",
    "N_      = 5                          # five business days per week   \n",
    "deltaT  = N_/252                     # time increment\n",
    "ts_     = np.linspace(0,deltaT,N_+1) # Time grid (flat)\n",
    "Ts_     = ts_[:,__]                  # Time grid (column vector) \n",
    "\n",
    "# Integral weights for trapezoidal rule (or use scipy.integrate)\n",
    "w = 2**(-np.sum(np.eye(N_+1)[:,[0,-1]],axis = 1,keepdims = 1))\n",
    "\n",
    "# Future scenarios\n",
    "J = 10; Y = w2Y(X[-1],Ts_,BM(Ts_,J))\n",
    "# Exact PnL\n",
    "tic()\n",
    "PnLEx = np.array([f(t+deltaT,np.vstack([X,Y[:,[j]]])) - f_ for j in range(J)])\n",
    "print(\"Exact PnL - Run time: %2.2f sec.\"%toc())\n",
    "#============= Approximated PnL using the FTE ============#\n",
    "# Approximated PnL\n",
    "tic()\n",
    "# Space increments\n",
    "deltaY = Y[-1] - Y[0]\n",
    "# Lévy area\n",
    "A = np.sum((Y - Y[0]) * w * dt,axis = 0) - deltaT*deltaY/2\n",
    "PnLAp = PnL(deltaT,deltaY,A,lbda)\n",
    "print(\"Approximated PnL - Run time (online): %2.2f sec.\"%toc())"
   ]
  },
  {
   "cell_type": "code",
   "execution_count": 8,
   "id": "4da2c900-ae17-4218-8aa3-4199507b62d2",
   "metadata": {},
   "outputs": [
    {
     "data": {
      "image/png": "[encoded data removed]",
      "text/plain": [
       "<Figure size 396x288 with 1 Axes>"
      ]
     },
     "metadata": {
      "needs_background": "light"
     },
     "output_type": "display_data"
    }
   ],
   "source": [
    "# PLOT: Observed path and future shocks\n",
    "rdm.seed(1)\n",
    "J_ = 40; Y = w2Y(X[-1],Ts_,BM(Ts_,J_))\n",
    "\n",
    "save = 0\n",
    "fig,ax = plt.subplots(1,1,figsize = (5.5,4))\n",
    "ax.set_facecolor(\"aliceblue\"); ax.set_prop_cycle(cyc('color', cols[1:]))\n",
    "ax.plot(Ts[:n+1],X,color = cols[0])\n",
    "ax.scatter(Ts[[0,n]],X[[0,n]],s = 20,color = cols[0],zorder = 3)\n",
    "ax.plot(t+Ts_,Y,alpha = 0.5,lw = 1)\n",
    "for j in range(J_):\n",
    "    ax.scatter((t+deltaT)*np.ones_like(Y[-1,j]),Y[-1,j],s = 8,zorder = 3,alpha = 0.25)\n",
    "\n",
    "plt.xticks([0,t,t+deltaT],labels = [r\"$0$\",r\"$t$\",r\"$t+\\delta t$\"]) \n",
    "plt.grid(color = cols[0], alpha = 0.5, axis = \"x\")\n",
    "ax.set_ylim(np.min(X)*0.9,np.max(X)*1.05)\n",
    "ax.text(t/2,x0,r\"$X$\",fontsize = 23,color = cols[0])\n",
    "ax.text(t+dt*0.75,x0*0.98,\"Y\",fontsize = 20,color = cols[2])\n",
    "# Intrinsic time average \n",
    "A0 = np.mean(X,axis = 0) * t/T + (1-t/T)*X[-1]\n",
    "ax.hlines(A0,0,t,linestyle = \":\",lw = 1,color = cols[0],alpha = 0.75,zorder = -2)\n",
    "ax.text(t/10,A0*0.995,r\"$A_0(X)$\",fontsize = 12,color = cols[0],\n",
    "        bbox = dict(edgecolor = cols[0],facecolor = 'aliceblue', pad=3))\n",
    "if save: plt.savefig(\"Figures/XY.pdf\",dpi = 500,bbox_inches =\"tight\",pad_inches = 0.15)\n",
    "plt.show()"
   ]
  },
  {
   "cell_type": "markdown",
   "id": "0fefd5c3-5127-4326-b60d-f11aa10e5bef",
   "metadata": {
    "tags": []
   },
   "source": [
    "### Fast computation of risk measures (VaR and ES)"
   ]
  },
  {
   "cell_type": "code",
   "execution_count": 34,
   "id": "9335cc9f-e8d8-4536-9f6c-6f0de4777330",
   "metadata": {},
   "outputs": [
    {
     "data": {
      "text/html": [
       "<div>\n",
       "<style scoped>\n",
       "    .dataframe tbody tr th:only-of-type {\n",
       "        vertical-align: middle;\n",
       "    }\n",
       "\n",
       "    .dataframe tbody tr th {\n",
       "        vertical-align: top;\n",
       "    }\n",
       "\n",
       "    .dataframe thead th {\n",
       "        text-align: right;\n",
       "    }\n",
       "</style>\n",
       "<table border=\"1\" class=\"dataframe\">\n",
       "  <thead>\n",
       "    <tr style=\"text-align: right;\">\n",
       "      <th></th>\n",
       "      <th>95% VaR</th>\n",
       "      <th>99% VaR</th>\n",
       "      <th>95% ES</th>\n",
       "      <th>99% ES</th>\n",
       "    </tr>\n",
       "  </thead>\n",
       "  <tbody>\n",
       "    <tr>\n",
       "      <th>Exact</th>\n",
       "      <td>-0.237</td>\n",
       "      <td>-0.255</td>\n",
       "      <td>-0.249</td>\n",
       "      <td>-0.261</td>\n",
       "    </tr>\n",
       "    <tr>\n",
       "      <th>FTE</th>\n",
       "      <td>-0.248</td>\n",
       "      <td>-0.252</td>\n",
       "      <td>-0.251</td>\n",
       "      <td>-0.254</td>\n",
       "    </tr>\n",
       "  </tbody>\n",
       "</table>\n",
       "</div>"
      ],
      "text/plain": [
       "       95% VaR  99% VaR  95% ES  99% ES\n",
       "Exact   -0.237   -0.255  -0.249  -0.261\n",
       "FTE     -0.248   -0.252  -0.251  -0.254"
      ]
     },
     "execution_count": 34,
     "metadata": {},
     "output_type": "execute_result"
    }
   ],
   "source": [
    "def ES(PnL,VaR,alpha): \n",
    "    \"\"\"Compute expected shortfall at level alpha (with associated VaR)\n",
    "       of a PnL array.\"\"\"\n",
    "    return np.mean(np.where(PnL <= VaR,PnL,0.))/(1-alpha)\n",
    "\n",
    "# Confidence levels\n",
    "alphas = np.array([0.95,0.99])\n",
    "\n",
    "# Value at Risk (VaR)\n",
    "VaREx,VaRAp = np.quantile(PnLEx,1-alphas),np.quantile(PnLAp,1-alphas)\n",
    "\n",
    "# Expected Shortfall (ES)\n",
    "ESEx  = [ES(PnLEx,v,a) for v,a in zip(VaREx,alphas)]\n",
    "ESAp  = [ES(PnLAp,v,a) for v,a in zip(VaRAp,alphas)]\n",
    "\n",
    "# Display results\n",
    "colNames = [\"%2.f%% VaR\"%(100*a) for a in alphas] \\\n",
    "         + [ \"%2.f%% ES\"%(100*a) for a in alphas]\n",
    "\n",
    "pd.DataFrame([list(VaREx) + ESEx,list(VaRAp) + ESAp],\n",
    "             columns = colNames, index = [\"Exact\",\"FTE\"]).round(3)"
   ]
  },
  {
   "cell_type": "code",
   "execution_count": null,
   "id": "6a244226-9ad2-4b07-a34e-7aaa99bc05af",
   "metadata": {},
   "outputs": [],
   "source": []
  }
 ],
 "metadata": {
  "kernelspec": {
   "display_name": "Python 3 (ipykernel)",
   "language": "python",
   "name": "python3"
  },
  "language_info": {
   "codemirror_mode": {
    "name": "ipython",
    "version": 3
   },
   "file_extension": ".py",
   "mimetype": "text/x-python",
   "name": "python",
   "nbconvert_exporter": "python",
   "pygments_lexer": "ipython3",
   "version": "3.9.9"
  }
 },
 "nbformat": 4,
 "nbformat_minor": 5
}

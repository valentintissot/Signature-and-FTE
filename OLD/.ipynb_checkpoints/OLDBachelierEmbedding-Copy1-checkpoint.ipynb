{
 "cells": [
  {
   "cell_type": "markdown",
   "id": "51392870-bafe-4989-960b-9ad934cbc1ea",
   "metadata": {},
   "source": [
    "## Signature Methods in Finance\n",
    "### Part III: Signature and Functional Expansions\n",
    "#### 6.1 Static Replication and Pricing\n"
   ]
  },
  {
   "cell_type": "code",
   "execution_count": 5,
   "id": "ae973417-bc15-4065-a2ef-8e6b1f0a4bc9",
   "metadata": {},
   "outputs": [],
   "source": [
    "from quantLib import *\n",
    "from math import factorial as fact\n",
    "import matplotlib.pyplot as plt\n",
    "from cycler import cycler as cyc\n",
    "cols = [\"midnightblue\",\"indianred\",\"darkred\",'mediumpurple','tomato','indianred',\"plum\",\"gold\",\"steelblue\"]\n",
    "colCyc = cyc('color', cols) #linestyle = [\"-\",\"--\",\":\"])\n",
    "plt.rcParams.update({\n",
    "    \"text.usetex\": True,\n",
    "    \"font.family\": \"serif\",\n",
    "    \"font.serif\": \"palatino\"\n",
    "})\n",
    "import bqplot.pyplot as bqplt\n",
    "import ipywidgets as wi\n",
    "from scipy.stats import norm, lognorm\n",
    "from bqplot import Axis, LinearScale\n",
    "import matplotlib.pyplot as plt\n",
    "from cycler import cycler as cyc\n",
    "__ = np.newaxis"
   ]
  },
  {
   "cell_type": "code",
   "execution_count": 43,
   "id": "cd863226-ed10-44aa-a525-0295dc92a131",
   "metadata": {},
   "outputs": [],
   "source": [
    "def MC(G,T = T, r = 0.): \n",
    "    \"\"\"Monte Carlo price of the reward G (array). \n",
    "       T = maturity, r = continuous interest rate. \"\"\"\n",
    "    return np.mean(np.exp(-r*T) * G,axis = -1)\n",
    "\n",
    "# Bachelier Embedding\n",
    "def p(tau,x,K,sigBa): \n",
    "    \"\"\"Price of vanilla call option in Bachelier model. \n",
    "       Tau = time to maturity\"\"\"\n",
    "    sig_ = sigBa * np.sqrt(tau)\n",
    "    if sig_ == 0.: return x - K\n",
    "    p1   = (x - K) * norm.cdf((x - K)/sig_)\n",
    "    p2   = sig_    * norm.pdf((x - K)/sig_)\n",
    "    return p1 + p2"
   ]
  },
  {
   "cell_type": "code",
   "execution_count": 48,
   "id": "c0c237a1-28ae-4245-846b-bd18f76ab221",
   "metadata": {},
   "outputs": [],
   "source": [
    "def baVanilla(x,K,sig,tau):\n",
    "    \"\"\"Bachelier price and greeks for vanilla options (call and put), zero interest rate.\n",
    "       x = spot, tau = time to maturity \"\"\"\n",
    "    # Volatility over [0,tau]\n",
    "    sig_ = sig * np.sqrt(tau)\n",
    "    # Formula when volatility and time to maturity are positive\n",
    "    if sig_ > 0:\n",
    "        # Threshold \n",
    "        d  =  (x - K)/sig_\n",
    "        # Call Price\n",
    "        C  = sig_ * nm.pdf(d) + (x - K) * nm.cdf(d) \n",
    "        # Delta of Call Option\n",
    "        dC = nm.cdf(d)\n",
    "        # Gamma of Call/Put Option\n",
    "        g  = nm.pdf(d) / sig_\n",
    "        # Theta of Call/Put Option (use heat equation)\n",
    "        th = - sig**2 * g / 2 \n",
    "    else: \n",
    "        C, dC, g, th = np.maximum(x - K,0.), 1*(x >= K), 0.*x, 0.*x\n",
    "    # Put Price and Delta (use Put-Call parity!)\n",
    "    P, dP = C + x - K, dC - 1\n",
    "    return  C, P, dC, dP, g, th"
   ]
  },
  {
   "cell_type": "code",
   "execution_count": 49,
   "id": "d336e852-b73d-4cf0-88e8-f1f8ae8b3bfa",
   "metadata": {},
   "outputs": [],
   "source": [
    "C, P, dC, dP, g, th = baVanilla(x0,K,sig,T)"
   ]
  },
  {
   "cell_type": "code",
   "execution_count": 59,
   "id": "00d85ffc-a5d3-4cf9-aafb-0266f3971763",
   "metadata": {},
   "outputs": [
    {
     "name": "stdout",
     "output_type": "stream",
     "text": [
      "MC:    0.039944\n",
      "Exact: 0.039894\n"
     ]
    }
   ],
   "source": [
    "N = 100                 \n",
    "ts  = np.linspace(0,T,N+1)  # Time grid (flat)\n",
    "Ts  = ts[:,__]              # Time grid (column vector)\n",
    "dt  = T/N                   # Time increments (here constant)\n",
    "\n",
    "J    = 100000; rdm.seed(11)\n",
    "sig  = 0.2\n",
    "x0,K = 1,1\n",
    "X    = x0 + sig * BM(Ts,J)\n",
    "#G    = g(X)\n",
    "\n",
    "g = lambda X: np.maximum(X[-1,:] - K,0.)\n",
    "\n",
    "C, P, dC, dP, g, th,v = baVanilla(x0,K,sig,T)\n",
    "print(\"Exact: %2.6f\"%C)\n",
    "\n",
    "\n",
    "# finite diff\n",
    "dT = 0.001*T\n",
    "C1,*_ = baVanilla(x0,K,sig,T-dT)\n",
    "print((C1-C)/dT, th)\n",
    "# Delta\n",
    "dx = 0.0001*x0\n",
    "C1,*_ = baVanilla(x0+dx,K,sig,T)\n",
    "print(\"\\n\",(C1-C)/dx, dC)\n",
    "# Gamma\n",
    "C2,*_ = baVanilla(x0-dx,K,sig,T)\n",
    "print(\"\\n\",(C1-2*C + C2)/dx**2, g)\n",
    "# Vega\n",
    "ds = sig *0.0001\n",
    "C3,*_ = baVanilla(x0,K,sig+ds,T)\n",
    "print(\"\\n\",(C3 - C)/ds, v)\n",
    "\n"
   ]
  },
  {
   "cell_type": "code",
   "execution_count": 69,
   "id": "7192e8c4-c25f-452b-a70b-901b0bdd7dfc",
   "metadata": {},
   "outputs": [
    {
     "name": "stdout",
     "output_type": "stream",
     "text": [
      "-0.07980841317409282 -0.07978845608028655\n",
      "\n",
      " 0.5001994711235219 0.5\n",
      "\n",
      " 3.989422471539772 3.989422804014327\n"
     ]
    }
   ],
   "source": [
    "# finite diff\n",
    "dT = 0.001*T\n",
    "C1,*_ = baVanilla(x0,K,sig,T-dT)\n",
    "print((C1-C)/dT, th)\n",
    "# Delta\n",
    "dx = 0.0001*x0\n",
    "C1,*_ = baVanilla(x0+dx,K,sig,T)\n",
    "print(\"\\n\",(C1-C)/dx, dC)\n",
    "# Gamma\n",
    "C2,*_ = baVanilla(x0-dx,K,sig,T)\n",
    "print(\"\\n\",(C1-2*C + C2)/dx**2, g)\n"
   ]
  },
  {
   "cell_type": "markdown",
   "id": "b18cc23c-8736-4feb-a6d2-be0bc0c79fec",
   "metadata": {},
   "source": [
    "### 6.1.1 Vanilla call option\n",
    "\n",
    "- Payoff $g(X_T) = (X_T-X_0)^+$ (ATM vanilla call)\n",
    "\n",
    "- $p^{BS} = $ Black-Scholes price of $g$ with $X_0 = K = 100$, $\\sigma_{BS} = 20\\%$, $r = 0$. "
   ]
  },
  {
   "cell_type": "code",
   "execution_count": 15,
   "id": "766e97e7-90dd-43ae-af67-199df214856d",
   "metadata": {},
   "outputs": [],
   "source": [
    "# Black-Scholes Parameter (delta is the dividend rate of the underlying. In this class, we always assume that delta = 0)\n",
    "x0,K,r,delta,sigBS,T = 1,1,0.0,0.0,0.2,0.25\n",
    "\n",
    "# Call Payoff \n",
    "g = lambda X: np.maximum(X[-1] - K,0.)\n",
    "\n",
    "def statRep(sigBa = None,T = T,h = 0.01, dT = 0.001):  \n",
    "    \"\"\"Static Replication using Bachelier embeddings. \n",
    "       Returns first FTE coefficients. \"\"\"\n",
    "    if sigBa is None: sigBa = sigBS * x0\n",
    "    # Functional derivatives (FTE coefficients)\n",
    "    lbda       = {}\n",
    "    # Bachelier Price\n",
    "    lbda[\"_\"]  = p(T,x0,K,sigBa)                          \n",
    "    # Bachelier Theta (forward difference)\n",
    "    lbda[\"t\"]  = (p(T-dT,x0,K,sigBa) - p(T,x0,K,sigBa))/dT \n",
    "    # Bachelier Delta (centered difference)\n",
    "    lbda[\"x\"]  = (p(T,x0 + h,K,sigBa) - p(T,x0 - h,K,sigBa))/(2*h) \n",
    "    # Bachelier Gamma (butterfly approximation)\n",
    "    lbda[\"xx\"] = (p(T,x0 + h,K,sigBa) - 2 * p(T,x0,K,sigBa) + p(T,x0 - h,K,sigBa))/h**2 \n",
    "    return lbda\n",
    "\n",
    "def gHat(xT,lbda,T = T):\n",
    "    \"\"\"Taylor approximation of g(X) given the coefficients (lbda^I).\"\"\"\n",
    "    return lbda[\"_\"] + lbda[\"t\"] * T + lbda[\"x\"] * (xT - x0) + lbda[\"xx\"] * (xT - x0)**2/2\n",
    "\n",
    "def pHat(lbda):\n",
    "    \"\"\"Initial price given the coefficients (lbda^I).\"\"\"\n",
    "    return lbda[\"_\"] + lbda[\"t\"] * T  + lbda[\"xx\"] * (np.exp(sigBS**2 * T) - 1)/2"
   ]
  },
  {
   "cell_type": "markdown",
   "id": "71e1af54-a70d-4d1b-821a-852b04dccbb8",
   "metadata": {},
   "source": [
    "Taylor approximation:\n",
    "$$ g(X) = f_{\\sigma}(X_0) + \\Delta_t f_{\\sigma}(X_0) T + \\Delta_x f_{\\sigma}(X_0) (X_T - X_0) +\\frac{1}{2}\\Delta_{xx} f_{\\sigma}(X_0) (X_T - X_0)^2 + o(T). $$ \n"
   ]
  },
  {
   "cell_type": "code",
   "execution_count": 8,
   "id": "36f23b1a-bce9-4a2e-aa31-a624ba47bba1",
   "metadata": {},
   "outputs": [
    {
     "data": {
      "image/png": "[encoded data removed]",
      "text/plain": [
       "<Figure size 432x360 with 2 Axes>"
      ]
     },
     "metadata": {
      "needs_background": "light"
     },
     "output_type": "display_data"
    }
   ],
   "source": [
    "#============= Terminal payoff =============#\n",
    "xs = np.linspace(0.5*x0,1.5*x0,201) # Space grid\n",
    "G  = g(xs[__,:])                    # Terminal payoff \n",
    "    \n",
    "col = 'midnightblue'\n",
    "cols = [\"purple\",\"indianred\",\"darkred\",'mediumpurple','tomato','indianred',\"plum\",\"gold\",\"steelblue\"]\n",
    "colCyc = cyc('color', cols)\n",
    "\n",
    "save = 1\n",
    "fig,ax = plt.subplots(1,1,figsize = (6,5))\n",
    "ax.set_facecolor(\"aliceblue\"); ax.set_prop_cycle(colCyc)#ax.set_prop_cycle(cyc('linestyle',['-','--','-.',':']))\n",
    "ax.plot(xs,G,dashes = (2,1),lw = 1.5,color = col,label = \"Call payoff\",alpha = 0.75,zorder = -4) \n",
    "#ax.text(xs[160]-0.06,G[160]-0.1,r\"$(X_T - X_0)^+$\",color = col,alpha = 0.6,fontsize = 16)\n",
    "# Replication using Bachelier embeddings / FTE\n",
    "i = 0\n",
    "for sig in [0.1,0.2,0.5]:\n",
    "    # FTE coefficients\n",
    "    lbda = statRep(sigBa = sig * x0); GHat = gHat(xs,lbda)\n",
    "    ax.plot(xs,GHat,lw = 1.5,label = r\"$\\sigma = %2.f$\"%(100*sig) + \"\\%\")\n",
    "    ax.text(xs[40]-0.05,GHat[40]-0.01,r\"$\\sigma = %2.f$\"%(100*sig) + \"\\%\",fontsize = 10,color = cols[i],\n",
    "                    bbox = dict(edgecolor = cols[i],facecolor = 'aliceblue', pad=3))#,color = col\n",
    "    i += 1\n",
    "# Add Risk-neutral distribution of X_T (here log normal)\n",
    "ax2 = ax.twinx()\n",
    "rnDist = lognorm.pdf(xs, s = sigBS*np.sqrt(T),scale = np.exp(- sigBS**2 * T/2))\n",
    "#ax.text(x0*0.92,-0.22,r\"$\\mathbb{Q} \\circ X_T^{-1}$\",color = col,fontsize = 15)\n",
    "ax2.fill_between(xs,0.,rnDist,zorder = -2,alpha = 0.5,color = cols[1])\n",
    "ax2.set_yticks([]); ax2.set_ylim(0.,4*np.max(rnDist))\n",
    "ax.set_xlim(np.min(xs),np.max(xs)); ax.set_ylim(np.min(GHat)*1.1-0.2,np.max(G)*1.1)\n",
    "ax.set_xticks(np.quantile(xs,np.linspace(0,1,5))); ax.set_yticks([0,0.25,0.5])\n",
    "ax.set_xlabel(r\"$X_T$\",fontsize = 15)\n",
    "#ax.legend(fontsize = 15,loc = \"best\",ncol = 1,frameon=False,labelcolor='linecolor')\n",
    "if save: plt.savefig(\"Figures/callReplication, sigBS = %2.2f.pdf\"%sigBS,dpi = 500,bbox_inches =\"tight\",pad_inches = 0.15)\n",
    "plt.show()"
   ]
  },
  {
   "cell_type": "code",
   "execution_count": 9,
   "id": "cc280d1b-e1fe-44c5-bb86-bfc77a4a7a89",
   "metadata": {},
   "outputs": [
    {
     "name": "stdout",
     "output_type": "stream",
     "text": [
      "BS price: 0.04\n"
     ]
    },
    {
     "data": {
      "image/png": "[encoded data removed]",
      "text/plain": [
       "<Figure size 432x360 with 1 Axes>"
      ]
     },
     "metadata": {
      "needs_background": "light"
     },
     "output_type": "display_data"
    }
   ],
   "source": [
    "#============= Initial Price vs sig =============#\n",
    "\n",
    "pBS,*_ = bsVanilla(x0,K,r,delta,sigBS,T)\n",
    "print(\"BS price: %2.2f\"%pBS)\n",
    "\n",
    "sigs = np.linspace(0.05,0.5,101) # Space grid\n",
    "    \n",
    "col = 'midnightblue'\n",
    "save = 1\n",
    "fig,ax = plt.subplots(1,1,figsize = (6,5))\n",
    "ax.set_facecolor(\"aliceblue\"); #ax.set_prop_cycle(cyc('linestyle',['-','--','-.',':']))\n",
    "ax.text(0.4,pBS*1.04,r\"$p^{BS}$\",color = col,alpha = 0.6,fontsize = 16)\n",
    "\n",
    "ps = []\n",
    "# Replication using Bachelier embeddings / FTE\n",
    "for sig in sigs:\n",
    "    # FTE coefficients\n",
    "    lbda = statRep(sigBa = sig * x0)\n",
    "    ps  += [pHat(lbda)]\n",
    "ax.hlines(pBS,sigs[0],sigs[-1],ls = \"--\",color = col,alpha = 0.5)\n",
    "yMin,yMax = pBS*0.75,np.max(ps)*1.1\n",
    "ax.vlines(sigBS,yMin,pBS,ls = \":\",color = col,alpha = 0.9)\n",
    "ax.plot(sigs,ps,lw = 1.5,color = col,label = r\"$\\sigma = %2.f$\"%(100*sig) + \"\\%\")\n",
    "ax.set_ylim(pBS*0.75,np.max(ps)*1.0); ax.set_xlim(np.min(sigs),np.max(sigs))\n",
    "SIGS = [0.1,0.2,0.3,0.4,0.5]\n",
    "ax.set_xticks(SIGS, labels = [r\"$%2.f$\"%(100*s) + \"\\%\" for s in SIGS])\n",
    "ax.set_xlabel(r\"$\\sigma$\",fontsize = 15)\n",
    "#ax.set_yticks([0])\n",
    "#ax.legend(fontsize = 15,loc = \"best\",ncol = 1,frameon=False,labelcolor='linecolor')\n",
    "if save: plt.savefig(\"Figures/callPrice.pdf\",dpi = 500,bbox_inches =\"tight\",pad_inches = 0.15)\n",
    "plt.show()"
   ]
  },
  {
   "cell_type": "raw",
   "id": "e10d5767-5779-4cf0-840f-84efd8976d12",
   "metadata": {},
   "source": [
    "# Initial Price \n",
    "\n",
    "# Simulations\n",
    "# Number of time steps\n",
    "N = 100                 \n",
    "ts  = np.linspace(0,T,N+1)  # Time grid (flat)\n",
    "Ts  = ts[:,__]              # Time grid (column vector)\n",
    "dt  = T/N                   # Time increments (here constant)\n",
    "\n",
    "J = 10000; rdm.seed(11)\n",
    "X    = x0 * np.exp(sigBS * BM(Ts,J) + (r - sigBS**2/2) * Ts)\n",
    "G    = g(X)"
   ]
  },
  {
   "cell_type": "markdown",
   "id": "8d422c5c-14ac-497a-8c4f-da5a7e6eded3",
   "metadata": {
    "tags": []
   },
   "source": [
    "## bqplot Animation: Final Payoff (IMPROVE)"
   ]
  },
  {
   "cell_type": "raw",
   "id": "48d1388d-1613-4564-b181-e7a5e1cb4c45",
   "metadata": {},
   "source": [
    "# Stock Grid\n",
    "xMin,xMax = 0.75*K, 1.25*K\n",
    "xs        = np.linspace(xMin,xMax,1001)\n",
    "# Max Bachelier volatility (normalized)\n",
    "sigMin, sigMax = 0.05, 1.0\n",
    "\n",
    "def update_Price(message):\n",
    "    if message['name'] == 'value':\n",
    "        sig_         = slider.value\n",
    "        lbda        = statRep(sigBa = sig_ * x0)\n",
    "        plot.y       = g1(xs,lbda)\n",
    "        figure.title = title(sig_)\n",
    "\n",
    "#===================== PLOT =====================# \n",
    "title = lambda sig: 'Call payoff, K = %2.f, T = %2.f, Bachelier volatility = %2.f%%'%(K,T,100*sig)\n",
    "\n",
    "figure = bqplt.figure(title = title(sigMin),animation_duration=0,legend_location = \"top-left\")\n",
    "bqplt.xlabel(\"Stock Price\"); bqplt.xlabel(\"Payoff\") \n",
    "# Call payoff\n",
    "bqplt.plot(xs,g(xs[__,:]),stroke_width = 3,labels = [\"Call Payoff\"],\n",
    "           display_legend = False,colors = [\"cornflowerblue\"],opacities = [0.8])\n",
    "# Replication, BS vol\n",
    "bqplt.plot(xs,g1(xs,statRep(sigBa = sigBS * x0)),stroke_width = 3,\n",
    "           labels = [\"Static Replication (BS Vol)\"], display_legend = True, \n",
    "           colors = [\"crimson\"],opacities = [1.0])\n",
    "# Replication, init vol\n",
    "plot = bqplt.plot(xs,g1(xs,statRep(sigBa = sigMin * x0)),stroke_width = 3,\n",
    "                  labels = [\"Static Replication\"],display_legend = True, colors = [\"plum\"],\n",
    "                  axes_options={\"x\": {\"label\": \"Stock Price\", \"num_ticks\":21}})\n",
    "\n",
    "plot.observe(update_Price, ['x','y'])\n",
    "bqplt.xlim(xMin,xMax); bqplt.ylim(-K/20,xMax-K+1)\n",
    "# Slider (log2 of number of time steps)\n",
    "slider = wi.FloatSlider(description=r'$\\sigma_{\\text{Bach}}$', step=0.01, min = sigMin, max = sigMax)\n",
    "slider.observe(update_Price,'value')\n",
    "# Display animation\n",
    "wi.VBox([slider, figure])"
   ]
  },
  {
   "cell_type": "markdown",
   "id": "45e28fb1-5d79-45c0-87c1-3c7f37c8a4bd",
   "metadata": {
    "tags": []
   },
   "source": [
    "## bqplot Animation: Initial Price (IMPROVE)"
   ]
  },
  {
   "cell_type": "raw",
   "id": "e7d717ea-3d32-4cac-a35f-f18356c5000b",
   "metadata": {},
   "source": [
    "# Stock Grid\n",
    "xMin,xMax = 0.6*K, 1.4*K; yMin, yMax = -K/20,xMax-K+1\n",
    "xs     = np.linspace(xMin,xMax,51)\n",
    "# BS prices\n",
    "pBS,*_ = bsVanilla(xs,K,r,delta,sigBS,T)\n",
    "# Max Bachelier volatility (normalized)\n",
    "sigMin, sigMax = 0.1, 0.4\n",
    "# BS paths starting from 1\n",
    "J = 1000\n",
    "X1   = np.exp(sigBS * np.sqrt(T) * rdm.randn(1,J) + (r - sigBS**2/2) * T)\n",
    "\n",
    "def update_Price(message):\n",
    "    if message['name'] == 'value':\n",
    "        sig_         = slider.value\n",
    "        lbda        = statRep(sigBa = sig_ * x0)\n",
    "        plot.y       = [MC(g1(x * X1,lbda)) for x in xs]\n",
    "        figure.title = title(sig_)\n",
    "\n",
    "#===================== PLOT =====================# \n",
    "title = lambda sig: 'Call Price, K = %2.f, T = %2.f, Bachelier volatility = %2.f%%'%(K,T,100*sig)\n",
    "\n",
    "figure = bqplt.figure(title = title(sigMin),animation_duration=0,legend_location = \"top-left\")\n",
    "bqplt.xlabel(\"Stock Price\"); bqplt.xlabel(\"Payoff\") \n",
    "bqplt.plot([x0,x0],[yMin,yMax],colors = [\"gray\"],opacities = [0.8])\n",
    "# Call payoff\n",
    "bqplt.plot(xs,pBS,stroke_width = 3,labels = [\"Black-Scholes\"],display_legend = True,colors = [\"cornflowerblue\"])\n",
    "# Price, BS vol\n",
    "lbda = statRep(sigBa = sigBS * x0)\n",
    "bqplt.plot(xs,[MC(g1(x * X1,lbda)) for x in xs],stroke_width = 3,\n",
    "           labels = [\"Static Replication (BS Vol)\"], display_legend = True, \n",
    "           colors = [\"plum\"],opacities = [0.8],zorders = [9])\n",
    "# Price, init vol\n",
    "lbda = statRep(sigBa = sigMin * x0)\n",
    "plot = bqplt.plot(xs,[MC(g1(x * X1,lbda)) for x in xs],stroke_width = 3,\n",
    "                  labels = [\"Static Replication\"],display_legend = True, colors = [\"darkred\"],\n",
    "                  axes_options={\"x\": {\"label\": \"Stock Price\", \"num_ticks\":21}})\n",
    "\n",
    "plot.observe(update_Price, ['x','y'])\n",
    "bqplt.xlim(xMin,xMax); bqplt.ylim(yMin, yMax)\n",
    "# Slider (log2 of number of time steps)\n",
    "slider = wi.FloatSlider(description=r'$\\sigma_{\\text{Bach}}$', step=0.01, min = sigMin, max = sigMax)\n",
    "slider.observe(update_Price,'value')\n",
    "# Display animation\n",
    "wi.VBox([slider, figure])"
   ]
  },
  {
   "cell_type": "markdown",
   "id": "438871e2-cbcc-4b4c-bcfb-e1b4a45d948e",
   "metadata": {},
   "source": [
    "### Asian Option"
   ]
  },
  {
   "cell_type": "code",
   "execution_count": 29,
   "id": "bf3d40b9-3a65-4b28-b2c0-6148c5374223",
   "metadata": {},
   "outputs": [],
   "source": [
    "# Bachelier Embedding\n",
    "def pAs(tau,a,K,sigBa): \n",
    "    \"\"\"Price of fixed strike Asian call option in Bachelier model. \n",
    "       tau = time to maturity.\"\"\"\n",
    "    # Scaled volatility for Asian options (note that T is fixed throughout)\n",
    "    sigAs = sigBa * tau / (np.sqrt(3) * T) \n",
    "    return p(tau,a,K,sigAs)\n",
    "\n",
    "def statRepAsian(sigBa,T = T,h = 0.01, dT = 0.001):  \n",
    "    \"\"\"Static Replication using Bachelier embeddings. \n",
    "       Returns first FTE coefficients. \"\"\"\n",
    "    # Functional derivatives (FTE coefficients)\n",
    "    lbda       = {}\n",
    "    # Bachelier Price\n",
    "    lbda[\"_\"]  = pAs(T,x0,K,sigAs)                          \n",
    "    # Bachelier Theta (forward difference)\n",
    "    lbda[\"t\"]  = (pAs(T-dT,x0,K,sigAs) - pAs(T,x0,K,sigBa))/dT \n",
    "    # Bachelier Delta (centered difference)\n",
    "    lbda[\"x\"]  = (pAs(T,T,x0 + h,K,sigBa) - pAs(T,x0 - h,K,sigBa))/(2*h) \n",
    "    # Bachelier Gamma (butterfly approximation)\n",
    "    lbda[\"xx\"] = (pAs(T,T,x0 + h,K,sigBa) - 2 * p(T,x0,K,sigBa) + p(T,x0 - h,K,sigBa))/h**2 \n",
    "    return lbda\n",
    "\n",
    "def gHat(xT,lbda,T = T):\n",
    "    \"\"\"Taylor approximation of g(X) given the coefficients (lbda^I).\"\"\"\n",
    "    return lbda[\"_\"] + lbda[\"t\"] * T + lbda[\"x\"] * (xT - x0) + lbda[\"xx\"] * (xT - x0)**2/2\n",
    "\n",
    "#def pHat(lbda):\n",
    "#    \"\"\"Initial price given the coefficients (lbda^I).\"\"\"\n",
    "#    return lbda[\"_\"] + lbda[\"t\"] * T  + lbda[\"xx\"] * (np.exp(sigBS**2 * T) - 1)/2"
   ]
  },
  {
   "cell_type": "code",
   "execution_count": 39,
   "id": "31cf2905-922d-4886-87e1-f0946426a851",
   "metadata": {},
   "outputs": [
    {
     "name": "stdout",
     "output_type": "stream",
     "text": [
      "MC:    0.023020\n",
      "Exact: 0.023033\n"
     ]
    }
   ],
   "source": [
    "# Simulations\n",
    "# Number of time steps\n",
    "N = 100                 \n",
    "ts  = np.linspace(0,T,N+1)  # Time grid (flat)\n",
    "Ts  = ts[:,__]              # Time grid (column vector)\n",
    "dt  = T/N                   # Time increments (here constant)\n",
    "\n",
    "J    = 100000; rdm.seed(11)\n",
    "sig  = 0.2\n",
    "x0,K = 1,1\n",
    "X    = x0 + sig * BM(Ts,J)\n",
    "#G    = g(X)\n",
    "\n",
    "g = lambda X: np.maximum(np.mean(X,axis = 0) - K,0.)\n",
    "\n",
    "print(\"MC:    %2.6f\"%MC(g(X)))\n",
    "\n",
    "p_ = pAs(T,T,x0,K,sig)\n",
    "print(\"Exact: %2.6f\"%p_)"
   ]
  },
  {
   "cell_type": "code",
   "execution_count": 21,
   "id": "eef6e547-60ad-4e06-895b-1784391d27b9",
   "metadata": {},
   "outputs": [
    {
     "data": {
      "text/plain": [
       "<function __main__.MC(G, T=0.25, r=0.0)>"
      ]
     },
     "execution_count": 21,
     "metadata": {},
     "output_type": "execute_result"
    }
   ],
   "source": []
  },
  {
   "cell_type": "code",
   "execution_count": null,
   "id": "5292b149-dd55-470d-88f1-fb7569356c6f",
   "metadata": {},
   "outputs": [],
   "source": []
  }
 ],
 "metadata": {
  "kernelspec": {
   "display_name": "Python 3 (ipykernel)",
   "language": "python",
   "name": "python3"
  },
  "language_info": {
   "codemirror_mode": {
    "name": "ipython",
    "version": 3
   },
   "file_extension": ".py",
   "mimetype": "text/x-python",
   "name": "python",
   "nbconvert_exporter": "python",
   "pygments_lexer": "ipython3",
   "version": "3.9.9"
  }
 },
 "nbformat": 4,
 "nbformat_minor": 5
}

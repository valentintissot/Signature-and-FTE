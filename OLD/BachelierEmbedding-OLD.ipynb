{
 "cells": [
  {
   "cell_type": "markdown",
   "id": "51392870-bafe-4989-960b-9ad934cbc1ea",
   "metadata": {},
   "source": [
    "## Signature Methods in Finance\n",
    "### Part III: Signature and Functional Expansions\n",
    "#### 3. Signature Functional and Path Reconstruction\n",
    "\n",
    "- Payoff $g(X_T) = (X_T-X_0)^+$ (ATM vanilla call)\n",
    "\n",
    "- $p^{BS} = $ Black-Scholes price of a call option with $X_0 = K = 100$, $\\sigma_{BS} = 20\\%$, $r = 0$. \n",
    "\n",
    "- Bachelier embeddings $f_{\\sigma}(X_t) = u_{\\sigma}(t,x_t)$, where $u_{\\sigma}(t,x) = \\mathbb{E}^{\\mathbb{Q}_\\sigma}[g(X_T) \\ | \\ x_t = x]  \\ \\to \\ g(X_T)$ as $t\\to T$. Note that  $ u_{\\sigma}(0,x_0) =: u_{\\sigma}^0$ is the Bachelier price. \n",
    "\n",
    "- First order Taylor ($\\lVert \\cdot \\rVert = $ weighted length)\n",
    "\n",
    "$$g(X_T) \\approx \\sum_{\\lVert \\alpha \\rVert \\le 1} \\lbda_{\\alpha}f_{\\sigma_{BA}}(X_0) \\mathcal{S}_{\\alpha}(X_T) =  u_{\\sigma_{BA}}^0 + \\partial_x u_{\\sigma_{BA}}^0 (x_T - x_0) + \\partial_t u_{\\sigma_{BA}}^0 T +  \\partial_{xx} u_{\\sigma_{BA}}^0 \\frac{(x_T - x_0)^2}{2}$$\n",
    "\n",
    "As $u_{\\sigma_{BA}}$ solves the heat equation $(\\partial_t + \\frac{\\sigma_{BA}^2}{2}\\partial_{xx})u = 0$, we can write\n",
    "\n",
    "$$g(X_T) \\approx   u_{\\sigma_{BA}}^0 + \\partial_x u_{\\sigma_{BA}}^0 (x_T - x_0)  +  \\partial_{xx} u_{\\sigma_{BA}}^0 \\frac{(x_T - x_0)^2 - \\sigma_{BA}^2 T}{2}$$\n",
    "\n",
    "[ In the Bachelier($\\sigma_{BA}$) model, note that   $\\frac{(x_T - x_0)^2 - \\sigma_{BA}^2 T}{2} =  \\int_0^T\\int_0^{t_2} dx_{t_1}dx_{t_2} =  \\sigma_{BA}^2 \\int_0^T\\int_0^{t_2} dw_{t_1}dw_{t_2}$ (2nd order Hermite polynomial) ]\n",
    "\n",
    "Taking expectation w.r.t. to $\\mathbb{Q}$ (Black-Scholes model) gives\n",
    "$$\\text{price}_{BS} \\approx  u_{\\sigma_{BA}}^0 + \\partial_{xx} u_{\\sigma_{BA}}^0 \\frac{e^{\\sigma_{BS}^2T} - 1 - \\sigma_{BA}^2 T}{2} \\approx \\text{price}_{BA} + \\frac{1}{2}\\Gamma_{\\sigma_{BA}}^{BA} T(\\sigma_{BS}^2- \\sigma_{BA}^2) $$\n",
    "It is therefore wise to set $\\sigma_{BA}$ close to $\\sigma_{BS}$. However, there should be a premium under the Black-Scholes model due to the convexity of $e^{\\cdot}$, so the \"optimal\" value for $\\sigma_{BA}$ should be larger than $\\sigma_{BS}$. A natural choice is $\\sigma_{BA} = \\sqrt{\\mathbb{V}^{\\mathbb{Q}}[x_1]} = \\sqrt{\\frac{e^{\\sigma_{BS}^2T} - 1}{T}} > \\sigma_{BS}$ , although close to $\\sigma_{BS}$ itself.\n",
    "\n",
    "If $x_0 = K$, it turns out that $$\\text{price}_{BS} \\le u_{\\sigma_{BA}}^0 + \\frac{T}{2}\\partial_{xx} u_{\\sigma_{BA}}^0 (\\mathbb{V}^{\\mathbb{Q}}[x_1] - \\sigma_{BA}^2),$$\n",
    "where the infimum on the RHS seems to be  attained at  $\\sigma_{BA} = \\sqrt{\\mathbb{V}^{\\mathbb{Q}}[x_1]} = \\sqrt{\\frac{e^{\\sigma_{BS}^2T} - 1}{T}}$. "
   ]
  },
  {
   "cell_type": "code",
   "execution_count": 1,
   "id": "ae973417-bc15-4065-a2ef-8e6b1f0a4bc9",
   "metadata": {},
   "outputs": [],
   "source": [
    "from quantLib import *\n",
    "from math import factorial as fact\n",
    "import matplotlib.pyplot as plt\n",
    "from cycler import cycler as cyc\n",
    "cols = [\"midnightblue\",'indianred','tomato','mediumpurple',\"darkred\",\"plum\",\"gold\",\"steelblue\"]\n",
    "colCyc = cyc(color = cols)\n",
    "plt.rcParams.update({\n",
    "    \"text.usetex\": True,\n",
    "    \"font.family\": \"serif\",\n",
    "    \"font.serif\": \"palatino\", \n",
    "})\n",
    "import bqplot.pyplot as bqplt\n",
    "import ipywidgets as wi\n",
    "from scipy.stats import norm\n",
    "from bqplot import Axis, LinearScale\n",
    "import matplotlib.pyplot as plt; plt.style.use('dark_background')\n",
    "from cycler import cycler as cyc\n",
    "__ = np.newaxis"
   ]
  },
  {
   "cell_type": "code",
   "execution_count": 17,
   "id": "780fc278-0f51-4981-8192-59f89564b37a",
   "metadata": {},
   "outputs": [],
   "source": [
    "# Black-Scholes Parameter (delta is the dividend rate of the underlying. In this class, we always assume that delta = 0)\n",
    "x0,K,r,delta,sigBS,T = 100,100,0.0,0.0,0.2,0.5\n",
    "# \"Optimal\" Bachelier volatility\n",
    "sigOpt = np.sqrt((np.exp(sigBS**2 * T) - 1)/T)\n",
    "\n",
    "# Call Payoff \n",
    "g = lambda X: np.maximum(X[-1] - K,0.)\n",
    "\n",
    "def MC(G,T = T, r = 0.): \n",
    "    \"\"\"Monte Carlo price of the reward G (array). \n",
    "       T = maturity, r = continuous interest rate. \"\"\"\n",
    "    return np.mean(np.exp(-r*T) * G,axis = -1)\n",
    "\n",
    "# Bachelier Embedding\n",
    "def p(tau,x,K,sigBa): \n",
    "    \"\"\"Price of vanilla call option in Bachelier model. Tau = time to maturity\"\"\"\n",
    "    sig_ = sigBa * np.sqrt(np.maximum(tau,1e-10))\n",
    "    u1   = (x - K) * norm.cdf((x - K)/sig_)\n",
    "    u2   = sig_ * norm.pdf((x - K)/sig_)\n",
    "    return np.where(tau > 0., u1 + u2, x - K)\n",
    "\n",
    "def statRep(sigBa = None,T = T,h = 0.01, dT = 0.0001):  \n",
    "    \"\"\"Static Replication (order 2). Returns hedged values and price\"\"\"\n",
    "    # Functional derivatives (FTE coefficients)\n",
    "    if sigBa is None: sigBa = sigBS * x0\n",
    "    lbda       = {}\n",
    "    lbda[\"_\"]  = p(T,x0,K,sigBa)                           # Price\n",
    "    lbda[\"t\"]  = (p(T-dT,x0,K,sigBa) - p(T,x0,K,sigBa))/dT # Theta\n",
    "    lbda[\"x\"]  = (p(T,x0 + h,K,sigBa) - p(T,x0,K,sigBa))/h # lbda\n",
    "    lbda[\"xx\"] = (p(T,x0 + h,K,sigBa) - 2 * p(T,x0,K,sigBa) + p(T,x0 - h,K,sigBa))/h**2 # Gamma\n",
    "    return lbda\n",
    "\n",
    "def gHat(xT,lbda,T = T):\n",
    "    \"\"\"Taylor approximation given the coefficient vector lbda\"\"\"\n",
    "    return lbda[\"_\"] + lbda[\"t\"] * T + lbda[\"x\"] * (xT - x0) + lbda[\"xx\"] * (xT - x0)**2/2"
   ]
  },
  {
   "cell_type": "markdown",
   "id": "71e1af54-a70d-4d1b-821a-852b04dccbb8",
   "metadata": {},
   "source": [
    "Taylor approximation:\n",
    "$$ g(X) = f_{\\sigma}(X_0) + \\lbda_t f_{\\sigma}(X_0) T + \\lbda_x f_{\\sigma}(X_0) (X_T - X_0) +\\frac{1}{2}\\lbda_{xx} f_{\\sigma}(X_0) (X_T - X_0)^2 + o(T). $$ \n"
   ]
  },
  {
   "cell_type": "code",
   "execution_count": 25,
   "id": "36f23b1a-bce9-4a2e-aa31-a624ba47bba1",
   "metadata": {},
   "outputs": [
    {
     "name": "stdout",
     "output_type": "stream",
     "text": [
      "BS price: 5.64\n"
     ]
    },
    {
     "ename": "ValueError",
     "evalue": "x and y must have same first dimension, but have shapes (201,) and (10000,)",
     "output_type": "error",
     "traceback": [
      "\u001b[0;31m---------------------------------------------------------------------------\u001b[0m",
      "\u001b[0;31mValueError\u001b[0m                                Traceback (most recent call last)",
      "\u001b[0;32m/var/folders/ql/b2jfpdvd6wg22kd5868s5krh0000gp/T/ipykernel_1696/2382289644.py\u001b[0m in \u001b[0;36m<module>\u001b[0;34m\u001b[0m\n\u001b[1;32m     23\u001b[0m \u001b[0;34m\u001b[0m\u001b[0m\n\u001b[1;32m     24\u001b[0m     \u001b[0mG1\u001b[0m \u001b[0;34m=\u001b[0m \u001b[0mg1\u001b[0m\u001b[0;34m(\u001b[0m\u001b[0mxs\u001b[0m\u001b[0;34m,\u001b[0m\u001b[0mlbda\u001b[0m\u001b[0;34m)\u001b[0m\u001b[0;34m\u001b[0m\u001b[0;34m\u001b[0m\u001b[0m\n\u001b[0;32m---> 25\u001b[0;31m     \u001b[0mplt\u001b[0m\u001b[0;34m.\u001b[0m\u001b[0mplot\u001b[0m\u001b[0;34m(\u001b[0m\u001b[0mxs\u001b[0m\u001b[0;34m,\u001b[0m\u001b[0mGHat\u001b[0m\u001b[0;34m)\u001b[0m\u001b[0;34m;\u001b[0m \u001b[0mplt\u001b[0m\u001b[0;34m.\u001b[0m\u001b[0mplot\u001b[0m\u001b[0;34m(\u001b[0m\u001b[0mxs\u001b[0m\u001b[0;34m,\u001b[0m\u001b[0mG\u001b[0m\u001b[0;34m)\u001b[0m\u001b[0;34m\u001b[0m\u001b[0;34m\u001b[0m\u001b[0m\n\u001b[0m\u001b[1;32m     26\u001b[0m     \u001b[0;31m#plt.title(\"Bachelier vol = %2.2f\"%(s*x0));\u001b[0m\u001b[0;34m\u001b[0m\u001b[0;34m\u001b[0m\u001b[0m\n\u001b[1;32m     27\u001b[0m \u001b[0mplt\u001b[0m\u001b[0;34m.\u001b[0m\u001b[0mshow\u001b[0m\u001b[0;34m(\u001b[0m\u001b[0;34m)\u001b[0m\u001b[0;34m\u001b[0m\u001b[0;34m\u001b[0m\u001b[0m\n",
      "\u001b[0;32m~/miniforge3/envs/tf1/lib/python3.9/site-packages/matplotlib/pyplot.py\u001b[0m in \u001b[0;36mplot\u001b[0;34m(scalex, scaley, data, *args, **kwargs)\u001b[0m\n\u001b[1;32m   2755\u001b[0m \u001b[0;34m@\u001b[0m\u001b[0m_copy_docstring_and_deprecators\u001b[0m\u001b[0;34m(\u001b[0m\u001b[0mAxes\u001b[0m\u001b[0;34m.\u001b[0m\u001b[0mplot\u001b[0m\u001b[0;34m)\u001b[0m\u001b[0;34m\u001b[0m\u001b[0;34m\u001b[0m\u001b[0m\n\u001b[1;32m   2756\u001b[0m \u001b[0;32mdef\u001b[0m \u001b[0mplot\u001b[0m\u001b[0;34m(\u001b[0m\u001b[0;34m*\u001b[0m\u001b[0margs\u001b[0m\u001b[0;34m,\u001b[0m \u001b[0mscalex\u001b[0m\u001b[0;34m=\u001b[0m\u001b[0;32mTrue\u001b[0m\u001b[0;34m,\u001b[0m \u001b[0mscaley\u001b[0m\u001b[0;34m=\u001b[0m\u001b[0;32mTrue\u001b[0m\u001b[0;34m,\u001b[0m \u001b[0mdata\u001b[0m\u001b[0;34m=\u001b[0m\u001b[0;32mNone\u001b[0m\u001b[0;34m,\u001b[0m \u001b[0;34m**\u001b[0m\u001b[0mkwargs\u001b[0m\u001b[0;34m)\u001b[0m\u001b[0;34m:\u001b[0m\u001b[0;34m\u001b[0m\u001b[0;34m\u001b[0m\u001b[0m\n\u001b[0;32m-> 2757\u001b[0;31m     return gca().plot(\n\u001b[0m\u001b[1;32m   2758\u001b[0m         \u001b[0;34m*\u001b[0m\u001b[0margs\u001b[0m\u001b[0;34m,\u001b[0m \u001b[0mscalex\u001b[0m\u001b[0;34m=\u001b[0m\u001b[0mscalex\u001b[0m\u001b[0;34m,\u001b[0m \u001b[0mscaley\u001b[0m\u001b[0;34m=\u001b[0m\u001b[0mscaley\u001b[0m\u001b[0;34m,\u001b[0m\u001b[0;34m\u001b[0m\u001b[0;34m\u001b[0m\u001b[0m\n\u001b[1;32m   2759\u001b[0m         **({\"data\": data} if data is not None else {}), **kwargs)\n",
      "\u001b[0;32m~/miniforge3/envs/tf1/lib/python3.9/site-packages/matplotlib/axes/_axes.py\u001b[0m in \u001b[0;36mplot\u001b[0;34m(self, scalex, scaley, data, *args, **kwargs)\u001b[0m\n\u001b[1;32m   1630\u001b[0m         \"\"\"\n\u001b[1;32m   1631\u001b[0m         \u001b[0mkwargs\u001b[0m \u001b[0;34m=\u001b[0m \u001b[0mcbook\u001b[0m\u001b[0;34m.\u001b[0m\u001b[0mnormalize_kwargs\u001b[0m\u001b[0;34m(\u001b[0m\u001b[0mkwargs\u001b[0m\u001b[0;34m,\u001b[0m \u001b[0mmlines\u001b[0m\u001b[0;34m.\u001b[0m\u001b[0mLine2D\u001b[0m\u001b[0;34m)\u001b[0m\u001b[0;34m\u001b[0m\u001b[0;34m\u001b[0m\u001b[0m\n\u001b[0;32m-> 1632\u001b[0;31m         \u001b[0mlines\u001b[0m \u001b[0;34m=\u001b[0m \u001b[0;34m[\u001b[0m\u001b[0;34m*\u001b[0m\u001b[0mself\u001b[0m\u001b[0;34m.\u001b[0m\u001b[0m_get_lines\u001b[0m\u001b[0;34m(\u001b[0m\u001b[0;34m*\u001b[0m\u001b[0margs\u001b[0m\u001b[0;34m,\u001b[0m \u001b[0mdata\u001b[0m\u001b[0;34m=\u001b[0m\u001b[0mdata\u001b[0m\u001b[0;34m,\u001b[0m \u001b[0;34m**\u001b[0m\u001b[0mkwargs\u001b[0m\u001b[0;34m)\u001b[0m\u001b[0;34m]\u001b[0m\u001b[0;34m\u001b[0m\u001b[0;34m\u001b[0m\u001b[0m\n\u001b[0m\u001b[1;32m   1633\u001b[0m         \u001b[0;32mfor\u001b[0m \u001b[0mline\u001b[0m \u001b[0;32min\u001b[0m \u001b[0mlines\u001b[0m\u001b[0;34m:\u001b[0m\u001b[0;34m\u001b[0m\u001b[0;34m\u001b[0m\u001b[0m\n\u001b[1;32m   1634\u001b[0m             \u001b[0mself\u001b[0m\u001b[0;34m.\u001b[0m\u001b[0madd_line\u001b[0m\u001b[0;34m(\u001b[0m\u001b[0mline\u001b[0m\u001b[0;34m)\u001b[0m\u001b[0;34m\u001b[0m\u001b[0;34m\u001b[0m\u001b[0m\n",
      "\u001b[0;32m~/miniforge3/envs/tf1/lib/python3.9/site-packages/matplotlib/axes/_base.py\u001b[0m in \u001b[0;36m__call__\u001b[0;34m(self, data, *args, **kwargs)\u001b[0m\n\u001b[1;32m    310\u001b[0m                 \u001b[0mthis\u001b[0m \u001b[0;34m+=\u001b[0m \u001b[0margs\u001b[0m\u001b[0;34m[\u001b[0m\u001b[0;36m0\u001b[0m\u001b[0;34m]\u001b[0m\u001b[0;34m,\u001b[0m\u001b[0;34m\u001b[0m\u001b[0;34m\u001b[0m\u001b[0m\n\u001b[1;32m    311\u001b[0m                 \u001b[0margs\u001b[0m \u001b[0;34m=\u001b[0m \u001b[0margs\u001b[0m\u001b[0;34m[\u001b[0m\u001b[0;36m1\u001b[0m\u001b[0;34m:\u001b[0m\u001b[0;34m]\u001b[0m\u001b[0;34m\u001b[0m\u001b[0;34m\u001b[0m\u001b[0m\n\u001b[0;32m--> 312\u001b[0;31m             \u001b[0;32myield\u001b[0m \u001b[0;32mfrom\u001b[0m \u001b[0mself\u001b[0m\u001b[0;34m.\u001b[0m\u001b[0m_plot_args\u001b[0m\u001b[0;34m(\u001b[0m\u001b[0mthis\u001b[0m\u001b[0;34m,\u001b[0m \u001b[0mkwargs\u001b[0m\u001b[0;34m)\u001b[0m\u001b[0;34m\u001b[0m\u001b[0;34m\u001b[0m\u001b[0m\n\u001b[0m\u001b[1;32m    313\u001b[0m \u001b[0;34m\u001b[0m\u001b[0m\n\u001b[1;32m    314\u001b[0m     \u001b[0;32mdef\u001b[0m \u001b[0mget_next_color\u001b[0m\u001b[0;34m(\u001b[0m\u001b[0mself\u001b[0m\u001b[0;34m)\u001b[0m\u001b[0;34m:\u001b[0m\u001b[0;34m\u001b[0m\u001b[0;34m\u001b[0m\u001b[0m\n",
      "\u001b[0;32m~/miniforge3/envs/tf1/lib/python3.9/site-packages/matplotlib/axes/_base.py\u001b[0m in \u001b[0;36m_plot_args\u001b[0;34m(self, tup, kwargs, return_kwargs)\u001b[0m\n\u001b[1;32m    496\u001b[0m \u001b[0;34m\u001b[0m\u001b[0m\n\u001b[1;32m    497\u001b[0m         \u001b[0;32mif\u001b[0m \u001b[0mx\u001b[0m\u001b[0;34m.\u001b[0m\u001b[0mshape\u001b[0m\u001b[0;34m[\u001b[0m\u001b[0;36m0\u001b[0m\u001b[0;34m]\u001b[0m \u001b[0;34m!=\u001b[0m \u001b[0my\u001b[0m\u001b[0;34m.\u001b[0m\u001b[0mshape\u001b[0m\u001b[0;34m[\u001b[0m\u001b[0;36m0\u001b[0m\u001b[0;34m]\u001b[0m\u001b[0;34m:\u001b[0m\u001b[0;34m\u001b[0m\u001b[0;34m\u001b[0m\u001b[0m\n\u001b[0;32m--> 498\u001b[0;31m             raise ValueError(f\"x and y must have same first dimension, but \"\n\u001b[0m\u001b[1;32m    499\u001b[0m                              f\"have shapes {x.shape} and {y.shape}\")\n\u001b[1;32m    500\u001b[0m         \u001b[0;32mif\u001b[0m \u001b[0mx\u001b[0m\u001b[0;34m.\u001b[0m\u001b[0mndim\u001b[0m \u001b[0;34m>\u001b[0m \u001b[0;36m2\u001b[0m \u001b[0;32mor\u001b[0m \u001b[0my\u001b[0m\u001b[0;34m.\u001b[0m\u001b[0mndim\u001b[0m \u001b[0;34m>\u001b[0m \u001b[0;36m2\u001b[0m\u001b[0;34m:\u001b[0m\u001b[0;34m\u001b[0m\u001b[0;34m\u001b[0m\u001b[0m\n",
      "\u001b[0;31mValueError\u001b[0m: x and y must have same first dimension, but have shapes (201,) and (10000,)"
     ]
    },
    {
     "data": {
      "image/png": "[encoded data removed]",
      "text/plain": [
       "<Figure size 432x288 with 1 Axes>"
      ]
     },
     "metadata": {},
     "output_type": "display_data"
    }
   ],
   "source": [
    "N = int(1e3); ts  = np.linspace(0,T,N+1); Ts  = np.array([ts]).T\n",
    "\n",
    "J = 10000; rdm.seed(11)\n",
    "X    = x0 * np.exp(sigBS * BM(Ts,J) + (r - sigBS**2/2) * Ts)\n",
    "G    = g(X)\n",
    "\n",
    "\n",
    "\n",
    "\n",
    "pBS,*_ = bsVanilla(x0,K,r,delta,sigBS,T)\n",
    "print(\"BS price: %2.2f\"%pBS)\n",
    "\n",
    "\n",
    "xs = np.linspace(0.75*x0,1.25*x0,201) # Space grid\n",
    "G  = g(xs)  # Terminal payoff\n",
    "    \n",
    "for sig in [0.01,0.2,0.5]:\n",
    "    # FTE coefficients\n",
    "    lbda = statRep(sigBa = sig * x0); GHat = gHat(X[-1],lbda)\n",
    "    #plt.ylabel(r\"$\\hat{g}_1(X_T)$\",rotation = 0)\n",
    "    #plt.plot([np.min(G),np.max(G)],[np.min(G1),np.max(G1)],color = \"w\")\n",
    "    #plt.title(\"Bachelier vol = %2.2f. Price = %2.2f\"%(s*x0,MC(G1))); plt.show()\n",
    "    \n",
    "    G1 = g1(xs,lbda)\n",
    "    plt.plot(xs,GHat); plt.plot(xs,G) \n",
    "    #plt.title(\"Bachelier vol = %2.2f\"%(s*x0)); \n",
    "plt.show()"
   ]
  },
  {
   "cell_type": "code",
   "execution_count": 22,
   "id": "05f89ed7-c9d6-4287-931a-fd2c7ec3c534",
   "metadata": {},
   "outputs": [
    {
     "data": {
      "text/plain": [
       "array([ 7.55415023, 10.20425258, 31.3942686 , ...,  9.44224665,\n",
       "        8.35651737,  9.74294804])"
      ]
     },
     "execution_count": 22,
     "metadata": {},
     "output_type": "execute_result"
    }
   ],
   "source": [
    "GHat"
   ]
  },
  {
   "cell_type": "markdown",
   "id": "8d422c5c-14ac-497a-8c4f-da5a7e6eded3",
   "metadata": {},
   "source": [
    "## Final Payoff"
   ]
  },
  {
   "cell_type": "code",
   "execution_count": 5,
   "id": "c8a62124-5162-4743-9186-17882d41d5b2",
   "metadata": {},
   "outputs": [
    {
     "data": {
      "application/vnd.jupyter.widget-view+json": {
       "model_id": "b2decc23dab0449ab4bccaaf9a3b3b12",
       "version_major": 2,
       "version_minor": 0
      },
      "text/plain": [
       "VBox(children=(FloatSlider(value=0.05, description='$\\\\sigma_{\\\\text{Bach}}$', max=1.0, min=0.05, step=0.01), …"
      ]
     },
     "metadata": {},
     "output_type": "display_data"
    }
   ],
   "source": [
    "# Stock Grid\n",
    "xMin,xMax = 0.75*K, 1.25*K\n",
    "xs        = np.linspace(xMin,xMax,1001)\n",
    "# Max Bachelier volatility (normalized)\n",
    "sigMin, sigMax = 0.05, 1.0\n",
    "\n",
    "def update_Price(message):\n",
    "    if message['name'] == 'value':\n",
    "        sig_         = slider.value\n",
    "        lbda        = statRep(sigBa = sig_ * x0)\n",
    "        plot.y       = g1(xs,lbda)\n",
    "        figure.title = title(sig_)\n",
    "\n",
    "#===================== PLOT =====================# \n",
    "title = lambda sig: 'Call payoff, K = %2.f, T = %2.f, Bachelier volatility = %2.f%%'%(K,T,100*sig)\n",
    "\n",
    "figure = bqplt.figure(title = title(sigMin),animation_duration=0,legend_location = \"top-left\")\n",
    "bqplt.xlabel(\"Stock Price\"); bqplt.xlabel(\"Payoff\") \n",
    "# Call payoff\n",
    "bqplt.plot(xs,g(xs[__,:]),stroke_width = 3,labels = [\"Call Payoff\"],\n",
    "           display_legend = False,colors = [\"cornflowerblue\"],opacities = [0.8])\n",
    "# Replication, BS vol\n",
    "bqplt.plot(xs,g1(xs,statRep(sigBa = sigBS * x0)),stroke_width = 3,\n",
    "           labels = [\"Static Replication (BS Vol)\"], display_legend = True, \n",
    "           colors = [\"crimson\"],opacities = [1.0])\n",
    "# Replication, init vol\n",
    "plot = bqplt.plot(xs,g1(xs,statRep(sigBa = sigMin * x0)),stroke_width = 3,\n",
    "                  labels = [\"Static Replication\"],display_legend = True, colors = [\"plum\"],\n",
    "                  axes_options={\"x\": {\"label\": \"Stock Price\", \"num_ticks\":21}})\n",
    "\n",
    "plot.observe(update_Price, ['x','y'])\n",
    "bqplt.xlim(xMin,xMax); bqplt.ylim(-K/20,xMax-K+1)\n",
    "# Slider (log2 of number of time steps)\n",
    "slider = wi.FloatSlider(description=r'$\\sigma_{\\text{Bach}}$', step=0.01, min = sigMin, max = sigMax)\n",
    "slider.observe(update_Price,'value')\n",
    "# Display animation\n",
    "wi.VBox([slider, figure])"
   ]
  },
  {
   "cell_type": "markdown",
   "id": "45e28fb1-5d79-45c0-87c1-3c7f37c8a4bd",
   "metadata": {
    "tags": []
   },
   "source": [
    "## Initial Price"
   ]
  },
  {
   "cell_type": "code",
   "execution_count": 6,
   "id": "b96ab21b-eb06-4104-b527-eec0c056b9fa",
   "metadata": {},
   "outputs": [
    {
     "data": {
      "application/vnd.jupyter.widget-view+json": {
       "model_id": "2ac5946e29b048df8391e6ab28a011d3",
       "version_major": 2,
       "version_minor": 0
      },
      "text/plain": [
       "VBox(children=(FloatSlider(value=0.1, description='$\\\\sigma_{\\\\text{Bach}}$', max=0.4, min=0.1, step=0.01), Fi…"
      ]
     },
     "metadata": {},
     "output_type": "display_data"
    }
   ],
   "source": [
    "# Stock Grid\n",
    "xMin,xMax = 0.6*K, 1.4*K; yMin, yMax = -K/20,xMax-K+1\n",
    "xs     = np.linspace(xMin,xMax,51)\n",
    "# BS prices\n",
    "pBS,*_ = bsVanilla(xs,K,r,delta,sigBS,T)\n",
    "# Max Bachelier volatility (normalized)\n",
    "sigMin, sigMax = 0.1, 0.4\n",
    "# BS paths starting from 1\n",
    "J = 1000\n",
    "X1   = np.exp(sigBS * np.sqrt(T) * rdm.randn(1,J) + (r - sigBS**2/2) * T)\n",
    "\n",
    "def update_Price(message):\n",
    "    if message['name'] == 'value':\n",
    "        sig_         = slider.value\n",
    "        lbda        = statRep(sigBa = sig_ * x0)\n",
    "        plot.y       = [MC(g1(x * X1,lbda)) for x in xs]\n",
    "        figure.title = title(sig_)\n",
    "\n",
    "#===================== PLOT =====================# \n",
    "title = lambda sig: 'Call Price, K = %2.f, T = %2.f, Bachelier volatility = %2.f%%'%(K,T,100*sig)\n",
    "\n",
    "figure = bqplt.figure(title = title(sigMin),animation_duration=0,legend_location = \"top-left\")\n",
    "bqplt.xlabel(\"Stock Price\"); bqplt.xlabel(\"Payoff\") \n",
    "bqplt.plot([x0,x0],[yMin,yMax],colors = [\"gray\"],opacities = [0.8])\n",
    "# Call payoff\n",
    "bqplt.plot(xs,pBS,stroke_width = 3,labels = [\"Black-Scholes\"],display_legend = True,colors = [\"cornflowerblue\"])\n",
    "# Price, BS vol\n",
    "lbda = statRep(sigBa = sigBS * x0)\n",
    "bqplt.plot(xs,[MC(g1(x * X1,lbda)) for x in xs],stroke_width = 3,\n",
    "           labels = [\"Static Replication (BS Vol)\"], display_legend = True, \n",
    "           colors = [\"plum\"],opacities = [0.8],zorders = [9])\n",
    "# Price, init vol\n",
    "lbda = statRep(sigBa = sigMin * x0)\n",
    "plot = bqplt.plot(xs,[MC(g1(x * X1,lbda)) for x in xs],stroke_width = 3,\n",
    "                  labels = [\"Static Replication\"],display_legend = True, colors = [\"darkred\"],\n",
    "                  axes_options={\"x\": {\"label\": \"Stock Price\", \"num_ticks\":21}})\n",
    "\n",
    "plot.observe(update_Price, ['x','y'])\n",
    "bqplt.xlim(xMin,xMax); bqplt.ylim(yMin, yMax)\n",
    "# Slider (log2 of number of time steps)\n",
    "slider = wi.FloatSlider(description=r'$\\sigma_{\\text{Bach}}$', step=0.01, min = sigMin, max = sigMax)\n",
    "slider.observe(update_Price,'value')\n",
    "# Display animation\n",
    "wi.VBox([slider, figure])"
   ]
  },
  {
   "cell_type": "markdown",
   "id": "4c5155d0-aed9-49dc-abc0-baed296c4ce4",
   "metadata": {},
   "source": [
    "## Term Structure"
   ]
  },
  {
   "cell_type": "code",
   "execution_count": 8,
   "id": "974a81a6-154c-4f38-8286-4545a7a7fea8",
   "metadata": {},
   "outputs": [
    {
     "data": {
      "application/vnd.jupyter.widget-view+json": {
       "model_id": "f460568f9d694d7abb6fe469302b9ba2",
       "version_major": 2,
       "version_minor": 0
      },
      "text/plain": [
       "VBox(children=(FloatSlider(value=0.05, description='$\\\\sigma_{\\\\text{Bach}}$', max=0.41, min=0.05, step=0.01),…"
      ]
     },
     "metadata": {},
     "output_type": "display_data"
    }
   ],
   "source": [
    "# Stock Grid\n",
    "TMin,TMax = 0., 0.5\n",
    "Ts        = np.linspace(TMin,TMax,101); Ts_ = np.array([Ts]).T\n",
    "# BS prices\n",
    "pBS = [bsVanilla(x0,K,r,delta,sigBS,T_)[0] for T_ in Ts]\n",
    "# Max Bachelier volatility (normalized)\n",
    "sigMin, sigMax = 0.05, 0.41\n",
    "# BS paths\n",
    "J = int(1e5)\n",
    "X    = x0 * np.exp(sigBS * np.sqrt(Ts_) * rdm.randn(len(Ts),J) + (r - sigBS**2/2) * Ts_)\n",
    "  \n",
    "def update_Price(message):\n",
    "    if message['name'] == 'value':\n",
    "        sig_           = slider.value\n",
    "        lbda          = statRep(sigBa = sig_ * x0,T = Ts_)\n",
    "        plot.y         = MC(g1(X,lbda,Ts_),Ts_) \n",
    "        figure.title   = title(sig_)\n",
    "\n",
    "#===================== PLOT =====================# \n",
    "title = lambda sig: 'ATM Call Term Structure, Bachelier volatility = %2.f%%'%(100*sig)\n",
    "\n",
    "figure = bqplt.figure(title = title(sigMin),animation_duration=0,legend_location = \"top-left\")\n",
    "bqplt.xlabel(\"Stock Price\"); bqplt.xlabel(\"Payoff\") \n",
    "# BS price\n",
    "bqplt.plot(Ts,pBS,stroke_width = 2,labels = [\"Black-Scholes\"],display_legend = True,colors = [\"cornflowerblue\"])\n",
    "# Price, BS vol\n",
    "lbda = statRep(sigBa = sigBS * x0,T = Ts_)\n",
    "bqplt.plot(Ts,MC(g1(X,lbda,Ts_),Ts_),stroke_width = 2,\n",
    "           labels = [\"Static Replication (BS Vol)\"], display_legend = True, \n",
    "           colors = [\"plum\"],opacities = [0.8],zorders = [9])\n",
    "# \"Optimal\" sigma\n",
    "\n",
    "lbda = statRep(sigBa = sigBS * x0,T = Ts_)\n",
    "bqplt.plot(Ts,MC(g1(X,lbda,Ts_),Ts_),stroke_width = 2,\n",
    "           labels = [\"Static Replication (BS Vol)\"], display_legend = True, \n",
    "           colors = [\"plum\"],opacities = [0.8],zorders = [9])\n",
    "# Price, init vol\n",
    "lbda = statRep(sigBa = sigMin * x0,T = Ts_)\n",
    "plot = bqplt.plot(Ts,MC(g1(X,lbda,Ts_),Ts_),stroke_width = 2,\n",
    "                  labels = [\"Static Replication\"],display_legend = True, colors = [\"darkred\"],\n",
    "                  axes_options={\"x\": {\"label\": \"Stock Price\", \"num_ticks\":21}})\n",
    "\n",
    "plot.observe(update_Price, ['x','y'])\n",
    "bqplt.xlim(TMin,TMax); bqplt.ylim(0.,pBS[-1]*1.2)\n",
    "# Slider (log2 of number of time steps)\n",
    "slider = wi.FloatSlider(description=r'$\\sigma_{\\text{Bach}}$', step=0.01, min = sigMin, max = sigMax)\n",
    "slider.observe(update_Price,'value')\n",
    "# Display animation\n",
    "wi.VBox([slider, figure])"
   ]
  },
  {
   "cell_type": "code",
   "execution_count": 229,
   "id": "e609b8c1-13c3-4368-be2d-23c5b4a9bde0",
   "metadata": {},
   "outputs": [
    {
     "data": {
      "text/plain": [
       "<function __main__.<lambda>(xT, Delta)>"
      ]
     },
     "execution_count": 229,
     "metadata": {},
     "output_type": "execute_result"
    }
   ],
   "source": [
    "g1"
   ]
  },
  {
   "cell_type": "code",
   "execution_count": 207,
   "id": "b116f1e8-439f-454c-9675-3ab237ba9177",
   "metadata": {},
   "outputs": [
    {
     "data": {
      "text/plain": [
       "array([0.        , 2.43834878, 2.62876136])"
      ]
     },
     "execution_count": 207,
     "metadata": {},
     "output_type": "execute_result"
    }
   ],
   "source": [
    "MC(g1(X,lbda),Ts_)"
   ]
  },
  {
   "cell_type": "code",
   "execution_count": 209,
   "id": "8df1ea00-b2ef-4b64-b762-22d0020d0084",
   "metadata": {},
   "outputs": [
    {
     "data": {
      "text/plain": [
       "{'_': array([[0.        ],\n",
       "        [0.9973557 ],\n",
       "        [1.41047396]]),\n",
       " 't': array([[ 0.        ],\n",
       "        [-1.99671011],\n",
       "        [-1.4111799 ]]),\n",
       " 'x': array([[1.        ],\n",
       "        [0.50079788],\n",
       "        [0.50056419]]),\n",
       " 'xx': array([[0.        ],\n",
       "        [0.1595767 ],\n",
       "        [0.11283784]])}"
      ]
     },
     "execution_count": 209,
     "metadata": {},
     "output_type": "execute_result"
    }
   ],
   "source": [
    "lbda\n"
   ]
  },
  {
   "cell_type": "code",
   "execution_count": 210,
   "id": "8f48f6f7-03f4-4c64-b2d3-42439b69b02a",
   "metadata": {},
   "outputs": [
    {
     "data": {
      "text/plain": [
       "array([[ 0.        ,  0.        ,  0.        ,  0.        ,  0.        ],\n",
       "       [ 1.83170175,  0.1902713 , -0.78657092,  8.80225989,  2.15408185],\n",
       "       [ 7.04030495,  2.36132514,  3.58020019, -0.28797151,  0.44994801]])"
      ]
     },
     "execution_count": 210,
     "metadata": {},
     "output_type": "execute_result"
    }
   ],
   "source": [
    "g1(X,lbda)"
   ]
  },
  {
   "cell_type": "code",
   "execution_count": 214,
   "id": "1572bbc4-3234-4b22-816b-b5fcc9aaa18e",
   "metadata": {},
   "outputs": [
    {
     "data": {
      "text/plain": [
       "array([[ 0.        ,  0.        ,  0.        ,  0.        ,  0.        ],\n",
       "       [ 0.79811161, -0.31831369, -2.09901617,  3.41928689, -5.11124421],\n",
       "       [ 2.82426886, -6.43150471, -7.13337314, -2.20399486, -0.97712821]])"
      ]
     },
     "execution_count": 214,
     "metadata": {},
     "output_type": "execute_result"
    }
   ],
   "source": [
    "lbda[\"x\"] * (X-x0) + lbda[\"t\"] * Ts_ "
   ]
  },
  {
   "cell_type": "code",
   "execution_count": 202,
   "id": "823bf3a6-48d5-4a13-a631-2b496d7bbb02",
   "metadata": {},
   "outputs": [
    {
     "data": {
      "text/plain": [
       "(51, 10000)"
      ]
     },
     "execution_count": 202,
     "metadata": {},
     "output_type": "execute_result"
    }
   ],
   "source": [
    "X"
   ]
  },
  {
   "cell_type": "code",
   "execution_count": 192,
   "id": "565e00d3-9ad6-4f9b-8c20-46423b02be63",
   "metadata": {},
   "outputs": [],
   "source": []
  },
  {
   "cell_type": "code",
   "execution_count": 193,
   "id": "d2a8bd84-b812-4c18-a89f-ffcf57bd4b27",
   "metadata": {},
   "outputs": [
    {
     "data": {
      "text/plain": [
       "{'_': array([[0.        ],\n",
       "        [2.82094792],\n",
       "        [3.9894228 ],\n",
       "        [4.88602512],\n",
       "        [5.64189584]]),\n",
       " 't': array([[  0.        ],\n",
       "        [-11.30644998],\n",
       "        [ -7.98684045],\n",
       "        [ -6.51904909],\n",
       "        [ -5.64471961]]),\n",
       " 'x': array([[1.        ],\n",
       "        [0.50028209],\n",
       "        [0.50019947],\n",
       "        [0.50016287],\n",
       "        [0.50014105]]),\n",
       " 'xx': array([[0.        ],\n",
       "        [0.05641895],\n",
       "        [0.03989422],\n",
       "        [0.0325735 ],\n",
       "        [0.02820948]])}"
      ]
     },
     "execution_count": 193,
     "metadata": {},
     "output_type": "execute_result"
    }
   ],
   "source": [
    "def statRep(sigBa = None,T = T,h = 0.01, dT = 0.001):  \n",
    "    \"\"\"Static Replication (order 1). Returns hedged values and price\"\"\"\n",
    "    # Functional derivatives\n",
    "    if sigBa is None: sigBa = sigBS * x0\n",
    "    lbda       = {}\n",
    "    lbda[\"_\"]  = p(T,x0,K,sigBa)  # Bachelier price\n",
    "    lbda[\"t\"]  = (p(np.maximum(T-dT,0.),x0,K,sigBa) - p(T,x0,K,sigBa))/dT\n",
    "    lbda[\"x\"]  = (p(T,x0 + h,K,sigBa) - p(T,x0,K,sigBa))/h\n",
    "    lbda[\"xx\"] = (p(T,x0 + h,K,sigBa) - 2 * p(T,x0,K,sigBa) + p(T,x0 - h,K,sigBa))/h**2\n",
    "    return lbda\n",
    "\n",
    "Ts = np.linspace(TMin,TMax,5); Ts_ = np.array([Ts]).T\n",
    "statRep(sigBa = sigBS * x0,T = Ts_)"
   ]
  },
  {
   "cell_type": "code",
   "execution_count": 119,
   "id": "7e5d123f-4cec-45c4-8fc3-8b5785927fff",
   "metadata": {},
   "outputs": [
    {
     "data": {
      "text/plain": [
       "2.632125039605402"
      ]
     },
     "execution_count": 119,
     "metadata": {},
     "output_type": "execute_result"
    }
   ],
   "source": [
    "MC(g1(X,lbda),T = Ts_)"
   ]
  },
  {
   "cell_type": "code",
   "execution_count": 112,
   "id": "fddcc261-c4b0-4c2b-bd23-007a5424942c",
   "metadata": {},
   "outputs": [
    {
     "data": {
      "text/plain": [
       "array([[102.30382613,  98.97119933,  96.60414617],\n",
       "       [110.53589391,  92.46565784,  93.84023349],\n",
       "       [108.39693476, 101.60545788,  96.89701829],\n",
       "       [ 94.88058912, 114.18923714, 101.61931622],\n",
       "       [ 80.47183911,  97.6408856 , 107.82729746],\n",
       "       [109.99473323, 105.6227037 ,  92.01318055],\n",
       "       [ 85.56341287, 109.57151099, 111.80071234],\n",
       "       [113.82245589,  70.79663284,  92.54964215],\n",
       "       [138.11597939,  94.57814856,  89.12979796],\n",
       "       [111.74478115,  67.64085786, 101.24168833],\n",
       "       [ 62.86206895,  90.13011052,  84.54134818]])"
      ]
     },
     "execution_count": 112,
     "metadata": {},
     "output_type": "execute_result"
    }
   ],
   "source": [
    "X"
   ]
  },
  {
   "cell_type": "code",
   "execution_count": 114,
   "id": "45329e98-9936-44f8-be81-f3838e7aaf41",
   "metadata": {},
   "outputs": [
    {
     "data": {
      "text/plain": [
       "array([[ 4.03380088,  2.30708379,  1.27094781],\n",
       "       [ 9.64183076, -0.16085942,  0.26112048],\n",
       "       [ 8.00085627,  3.64601062,  1.39057924],\n",
       "       [ 0.61593501, 12.74309014,  3.65357209],\n",
       "       [-1.58130543,  1.7053092 ,  7.58560229],\n",
       "       [ 9.21446526,  6.06476372, -0.28810469],\n",
       "       [-1.47398961,  8.88599493, 10.67290195],\n",
       "       [12.41473338,  0.22993611, -0.13660595],\n",
       "       [42.36182432,  0.50963947, -0.9632997 ],\n",
       "       [10.62635356,  1.39183591,  3.44946619],\n",
       "       [ 3.68611828, -0.75562734, -1.55419767]])"
      ]
     },
     "execution_count": 114,
     "metadata": {},
     "output_type": "execute_result"
    }
   ],
   "source": [
    "np.exp(-r*Ts_) * g1(X,lbda)"
   ]
  },
  {
   "cell_type": "code",
   "execution_count": 9,
   "id": "e8937cc8-78c2-4024-81e6-adbaa1b3f294",
   "metadata": {},
   "outputs": [
    {
     "ename": "NameError",
     "evalue": "name 'sig' is not defined",
     "output_type": "error",
     "traceback": [
      "\u001b[0;31m---------------------------------------------------------------------------\u001b[0m",
      "\u001b[0;31mNameError\u001b[0m                                 Traceback (most recent call last)",
      "\u001b[0;32m/var/folders/ql/b2jfpdvd6wg22kd5868s5krh0000gp/T/ipykernel_33721/2750543782.py\u001b[0m in \u001b[0;36m<module>\u001b[0;34m\u001b[0m\n\u001b[1;32m      7\u001b[0m \u001b[0msigMax\u001b[0m \u001b[0;34m=\u001b[0m \u001b[0;36m3.5\u001b[0m\u001b[0;34m\u001b[0m\u001b[0;34m\u001b[0m\u001b[0m\n\u001b[1;32m      8\u001b[0m \u001b[0;31m# Target prices\u001b[0m\u001b[0;34m\u001b[0m\u001b[0;34m\u001b[0m\u001b[0m\n\u001b[0;32m----> 9\u001b[0;31m \u001b[0mpBS\u001b[0m \u001b[0;34m=\u001b[0m \u001b[0mbsVanilla\u001b[0m\u001b[0;34m(\u001b[0m\u001b[0mxs\u001b[0m\u001b[0;34m,\u001b[0m\u001b[0mK\u001b[0m\u001b[0;34m,\u001b[0m\u001b[0mr\u001b[0m\u001b[0;34m,\u001b[0m\u001b[0mdelta\u001b[0m\u001b[0;34m,\u001b[0m\u001b[0msig\u001b[0m\u001b[0;34m,\u001b[0m\u001b[0mT\u001b[0m\u001b[0;34m)\u001b[0m\u001b[0;34m\u001b[0m\u001b[0;34m\u001b[0m\u001b[0m\n\u001b[0m\u001b[1;32m     10\u001b[0m \u001b[0;34m\u001b[0m\u001b[0m\n\u001b[1;32m     11\u001b[0m \u001b[0;32mdef\u001b[0m \u001b[0mupdate_Price\u001b[0m\u001b[0;34m(\u001b[0m\u001b[0mmessage\u001b[0m\u001b[0;34m)\u001b[0m\u001b[0;34m:\u001b[0m\u001b[0;34m\u001b[0m\u001b[0;34m\u001b[0m\u001b[0m\n",
      "\u001b[0;31mNameError\u001b[0m: name 'sig' is not defined"
     ]
    }
   ],
   "source": [
    "g1 = lambda xT,lbda: lbda[\"_\"] + lbda[\"t\"] * T \\\n",
    "                    + lbda[\"x\"] * (xT - x0) + lbda[\"xx\"] * (xT - x0)**2/2\n",
    "# Stock Grid\n",
    "xMin,xMax = 0., 2*K\n",
    "xs     = np.linspace(xMin,xMax,1001)\n",
    "# Max Bachelier volatility (normalized)\n",
    "sigMax = 3.5\n",
    "# Target prices\n",
    "pBS = bsVanilla(xs,K,r,delta,sig,T)\n",
    "\n",
    "def update_Price(message):\n",
    "    if message['name'] == 'value':\n",
    "        sig_         = slider.value\n",
    "        G1,p1,lbda  = statRep(G,sigBa = sig_ * x0)\n",
    "        plot.y       = g1(xs,lbda)\n",
    "        figure.title = title(sig_)\n",
    "\n",
    "#===================== PLOT =====================# \n",
    "title = lambda sig: 'Black-Scholes Price, K = %2.f, T = %2.f, volatility = %2.f%%'%(K,T,100*sig)\n",
    "\n",
    "figure = bqplt.figure(title = title(0.),animation_duration=0,legend_location = \"top-left\")\n",
    "bqplt.xlabel(\"Stock Price\")\n",
    "\n",
    "# Plot\n",
    "bqplt.plot(xs,bsVanilla(xs,K,r,delta,0.,T)[:2],stroke_width = 3,\n",
    "           colors = [\"steelblue\",\"purple\"],opacities = [0.4],line_style = \"dashed\")\n",
    "\n",
    "plot = bqplt.plot(xs,bsVanilla(xs,K,r,delta,0.,T)[:2],stroke_width = 2,\n",
    "                  labels = [\"Call\",\"Put\"],display_legend = True, colors = [\"steelblue\",\"purple\"],\n",
    "                  axes_options={\"x\": {\"label\": \"Stock Price\", \"num_ticks\":21}})\n",
    "\n",
    "s = K*np.exp(-r*T)\n",
    "bqplt.plot([s,s],[-5.,xMax+10.],stroke_width = 2,colors = [\"orchid\"],opacities = [0.6],line_style = \"solid\")\n",
    "bqplt.plot([K,K],[-5.,xMax+10.],stroke_width = 2,colors = [\"gray\"],opacities = [0.8],line_style = \"solid\")\n",
    "\n",
    "plot.observe(update_Price, ['x','y'])\n",
    "bqplt.xlim(xMin,xMax); bqplt.ylim(0.,xMax)# - K)\n",
    "# Slider (log2 of number of time steps)\n",
    "slider = wi.FloatSlider(description=r'$\\sigma$', step=0.01, min = 0, max = sigMax)\n",
    "slider.observe(update_Price,'value')\n",
    "# Display animation\n",
    "wi.VBox([slider, figure])"
   ]
  },
  {
   "cell_type": "code",
   "execution_count": null,
   "id": "05983d6f-409a-422f-a344-e317adf9ae0a",
   "metadata": {},
   "outputs": [],
   "source": []
  }
 ],
 "metadata": {
  "kernelspec": {
   "display_name": "Python 3 (ipykernel)",
   "language": "python",
   "name": "python3"
  },
  "language_info": {
   "codemirror_mode": {
    "name": "ipython",
    "version": 3
   },
   "file_extension": ".py",
   "mimetype": "text/x-python",
   "name": "python",
   "nbconvert_exporter": "python",
   "pygments_lexer": "ipython3",
   "version": "3.9.9"
  }
 },
 "nbformat": 4,
 "nbformat_minor": 5
}
